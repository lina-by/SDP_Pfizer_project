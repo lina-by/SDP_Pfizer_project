{
 "cells": [
  {
   "cell_type": "code",
   "execution_count": 1,
   "metadata": {},
   "outputs": [],
   "source": [
    "from gurobipy import *\n",
    "import pandas as pd"
   ]
  },
  {
   "cell_type": "code",
   "execution_count": 9,
   "metadata": {},
   "outputs": [],
   "source": [
    "index_values = pd.read_csv(\"bricks_index_values.csv\")['index_value']"
   ]
  },
  {
   "cell_type": "code",
   "execution_count": 10,
   "metadata": {},
   "outputs": [
    {
     "data": {
      "text/plain": [
       "0     0.1609\n",
       "1     0.1164\n",
       "2     0.1026\n",
       "3     0.1516\n",
       "4     0.0939\n",
       "5     0.1320\n",
       "6     0.0687\n",
       "7     0.0930\n",
       "8     0.2116\n",
       "9     0.2529\n",
       "10    0.0868\n",
       "11    0.0828\n",
       "12    0.0975\n",
       "13    0.8177\n",
       "14    0.4115\n",
       "15    0.3795\n",
       "16    0.0710\n",
       "17    0.0427\n",
       "18    0.1043\n",
       "19    0.0997\n",
       "20    0.1698\n",
       "21    0.2531\n",
       "Name: index_value, dtype: float64"
      ]
     },
     "execution_count": 10,
     "metadata": {},
     "output_type": "execute_result"
    }
   ],
   "source": [
    "index_values"
   ]
  },
  {
   "cell_type": "code",
   "execution_count": 10,
   "metadata": {},
   "outputs": [],
   "source": [
    "index_values = pd.read_csv(\"bricks_index_values.csv\").set_index('brick').squeeze()"
   ]
  },
  {
   "cell_type": "code",
   "execution_count": 11,
   "metadata": {},
   "outputs": [
    {
     "data": {
      "text/plain": [
       "0.1026"
      ]
     },
     "execution_count": 11,
     "metadata": {},
     "output_type": "execute_result"
    }
   ],
   "source": [
    "index_values.loc[3]"
   ]
  }
 ],
 "metadata": {
  "kernelspec": {
   "display_name": "Python 3",
   "language": "python",
   "name": "python3"
  },
  "language_info": {
   "codemirror_mode": {
    "name": "ipython",
    "version": 3
   },
   "file_extension": ".py",
   "mimetype": "text/x-python",
   "name": "python",
   "nbconvert_exporter": "python",
   "pygments_lexer": "ipython3",
   "version": "3.11.2"
  }
 },
 "nbformat": 4,
 "nbformat_minor": 2
}
